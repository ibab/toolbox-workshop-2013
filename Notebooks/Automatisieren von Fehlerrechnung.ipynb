{
 "metadata": {
  "name": ""
 },
 "nbformat": 3,
 "nbformat_minor": 0,
 "worksheets": [
  {
   "cells": [
    {
     "cell_type": "markdown",
     "metadata": {},
     "source": [
      "# Automatisieren von Fehlerrechnung\n",
      "\n",
      "$$ \\sigma_{f(x_i)} = \\sqrt{\\sum_i \\left( \\frac{\\partial f}{\\partial x_i}\\right)^{\\!2} \\sigma_{x_i}^2} $$\n",
      "\n",
      "- Gesucht: Fehler von $f(x_i)$, wenn $x_i$ Fehler haben\n",
      "- Manuelle Fehlerfortpflanzung:\n",
      " 1. Berechne die Ableitungen von $f$ nach allen fehlerbehafteten Gr\u00f6\u00dfen $x_i$\n",
      " 2. Ableitungen in die obere Formel einsetzen\n",
      " 3. Werte und Fehler der $x_i$ einsetzen\n",
      "- Probleme:\n",
      " - Kompliziert, dauert lange, man macht oft Fehler\n",
      " - Falsches Ergebnis, wenn $x_i$ korreliert sind\n",
      "\n",
      " # TODO: Korrelation erkl\u00e4ren\n",
      " \n",
      "## python-uncertainties\n",
      "\n",
      "- Erlaubt es, Fehlerrechnung automatisch durchzuf\u00fchren\n",
      "- Datentyp: `ufloat`, repr\u00e4sentiert Wert mit Fehler"
     ]
    },
    {
     "cell_type": "code",
     "collapsed": false,
     "input": [
      "from uncertainties import ufloat\n",
      "\n",
      "x = ufloat(5, 1)\n",
      "y = ufloat(3, 1)\n",
      "\n",
      "x + y"
     ],
     "language": "python",
     "metadata": {},
     "outputs": []
    },
    {
     "cell_type": "code",
     "collapsed": false,
     "input": [
      "# Korrelationen werden von uncertainties beachtet:\n",
      "x = ufloat(3, 2)\n",
      "\n",
      "f = x**2\n",
      "f - x**2\n",
      "# kein Fehler!"
     ],
     "language": "python",
     "metadata": {},
     "outputs": []
    },
    {
     "cell_type": "markdown",
     "metadata": {},
     "source": [
      "`uncertainties.unumpy` erg\u00e4nzt numpy:"
     ]
    },
    {
     "cell_type": "code",
     "collapsed": false,
     "input": [
      "import numpy as np\n",
      "import uncertainties.unumpy as unp\n",
      "\n",
      "x = np.array([1, 2, 3, 4, 5])\n",
      "err = np.array([0.1, 0.3, 0.1, 0.8, 1.0])\n",
      "\n",
      "y = unp.uarray(x, err)\n",
      "\n",
      "np.sum(unp.exp(y))"
     ],
     "language": "python",
     "metadata": {},
     "outputs": []
    },
    {
     "cell_type": "markdown",
     "metadata": {},
     "source": [
      "Zugriff auf Wert und Standardabweichung mit `n` und `s`:"
     ]
    },
    {
     "cell_type": "code",
     "collapsed": false,
     "input": [
      "x = ufloat(5, 1)\n",
      "print(x.n)\n",
      "print(x.s)"
     ],
     "language": "python",
     "metadata": {},
     "outputs": []
    },
    {
     "cell_type": "markdown",
     "metadata": {},
     "source": [
      "Bei `unumpy` mit `nominal_values` und `std_devs`"
     ]
    },
    {
     "cell_type": "code",
     "collapsed": false,
     "input": [
      "x = unp.uarray([1, 2, 3], [0.3, 0.3, 0.1])\n",
      "print(unp.nominal_values(x))\n",
      "print(unp.std_devs(x))"
     ],
     "language": "python",
     "metadata": {},
     "outputs": []
    },
    {
     "cell_type": "markdown",
     "metadata": {},
     "source": [
      "Kann man nat\u00fcrlich auch abk\u00fcrzen:"
     ]
    },
    {
     "cell_type": "code",
     "collapsed": false,
     "input": [
      "from uncertainties.unumpy import (nominal_values as noms,\n",
      "                                  std_devs as stds)\n",
      "\n",
      "print(noms(x))\n",
      "print(stds(x))"
     ],
     "language": "python",
     "metadata": {},
     "outputs": []
    },
    {
     "cell_type": "markdown",
     "metadata": {},
     "source": [
      "Man muss daran denken, die Funktionen aus unumpy zu benutzen (`exp`, `cos`, etc.)"
     ]
    },
    {
     "cell_type": "code",
     "collapsed": false,
     "input": [
      "np.cos(x)"
     ],
     "language": "python",
     "metadata": {},
     "outputs": []
    },
    {
     "cell_type": "code",
     "collapsed": false,
     "input": [],
     "language": "python",
     "metadata": {},
     "outputs": []
    }
   ],
   "metadata": {}
  }
 ]
}