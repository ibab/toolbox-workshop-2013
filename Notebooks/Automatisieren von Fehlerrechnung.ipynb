{
 "metadata": {
  "name": ""
 },
 "nbformat": 3,
 "nbformat_minor": 0,
 "worksheets": [
  {
   "cells": [
    {
     "cell_type": "markdown",
     "metadata": {},
     "source": [
      "# Automatisieren von Fehlerrechnung\n",
      "\n",
      "$$ \\sigma_{f(x_i)} = \\sqrt{\\sum_i \\left( \\frac{\\partial f}{\\partial x_i}\\right)^{\\!2} \\sigma_{x_i}^2} $$\n",
      "\n",
      "- Gesucht: Fehler von $f(x_i)$, wenn $x_i$ Fehler haben\n",
      "- Manuelle Fehlerfortpflanzung:\n",
      " 1. Berechne die Ableitungen von $f$ nach allen fehlerbehafteten Gr\u00f6\u00dfen $x_i$\n",
      " 2. Ableitungen in die obere Formel einsetzen\n",
      " 3. Werte und Fehler der $x_i$ einsetzen\n",
      "- Probleme:\n",
      " - Kompliziert, dauert lange, man macht oft Fehler\n",
      " - Falsches Ergebnis, wenn $x_i$ korreliert sind\n",
      "\n",
      " # TODO: Korrelation erkl\u00e4ren\n",
      " \n",
      "## python-uncertainties\n",
      "\n",
      "- Erlaubt es, Fehlerrechnung automatisch durchzuf\u00fchren\n",
      "- Datentyp: `ufloat`, repr\u00e4sentiert Wert mit Fehler"
     ]
    },
    {
     "cell_type": "code",
     "collapsed": false,
     "input": [
      "from uncertainties import ufloat\n",
      "\n",
      "x = ufloat(5, 1)\n",
      "y = ufloat(3, 1)\n",
      "\n",
      "x + y"
     ],
     "language": "python",
     "metadata": {},
     "outputs": [
      {
       "metadata": {},
       "output_type": "pyout",
       "prompt_number": 4,
       "text": [
        "8.0+/-1.4142135623730951"
       ]
      }
     ],
     "prompt_number": 4
    },
    {
     "cell_type": "code",
     "collapsed": false,
     "input": [
      "# Korrelationen werden von uncertainties beachtet:\n",
      "x = ufloat(3, 1)\n",
      "y = ufloat(3, 1)\n",
      "\n",
      "print(x**2 - y)\n",
      "print(x**2 - x) # Fehler ist kleiner!"
     ],
     "language": "python",
     "metadata": {},
     "outputs": []
    },
    {
     "cell_type": "markdown",
     "metadata": {},
     "source": [
      "`uncertainties.unumpy` erg\u00e4nzt numpy:"
     ]
    },
    {
     "cell_type": "code",
     "collapsed": false,
     "input": [
      "import numpy as np\n",
      "import uncertainties.unumpy as unp\n",
      "\n",
      "x = [1, 2, 3, 4, 5]\n",
      "err = [0.1, 0.3, 0.1, 0.8, 1.0]\n",
      "\n",
      "y = unp.uarray(x, err)\n",
      "\n",
      "unp.cos(unp.exp(y))"
     ],
     "language": "python",
     "metadata": {},
     "outputs": [
      {
       "metadata": {},
       "output_type": "pyout",
       "prompt_number": 2,
       "text": [
        "array([-0.9117339147869651+/-0.11166193174450133,\n",
        "       0.4483562418187328+/-1.9814233218473645,\n",
        "       0.3285947554325321+/-1.8970207322669204,\n",
        "       -0.3706617333977958+/-40.567208903209576,\n",
        "       -0.7260031145123346+/-102.06245489729305], dtype=object)"
       ]
      }
     ],
     "prompt_number": 2
    },
    {
     "cell_type": "markdown",
     "metadata": {},
     "source": [
      "Zugriff auf Wert und Standardabweichung mit `n` und `s`:"
     ]
    },
    {
     "cell_type": "code",
     "collapsed": false,
     "input": [
      "x = ufloat(5, 1)\n",
      "print(x.n)\n",
      "print(x.s)"
     ],
     "language": "python",
     "metadata": {},
     "outputs": [
      {
       "output_type": "stream",
       "stream": "stdout",
       "text": [
        "5.0\n",
        "1.0\n"
       ]
      }
     ],
     "prompt_number": 5
    },
    {
     "cell_type": "markdown",
     "metadata": {},
     "source": [
      "Bei `unumpy` mit `nominal_values` und `std_devs`"
     ]
    },
    {
     "cell_type": "code",
     "collapsed": false,
     "input": [
      "x = unp.uarray([1, 2, 3], [0.3, 0.3, 0.1])\n",
      "print(unp.nominal_values(x))\n",
      "print(unp.std_devs(x))"
     ],
     "language": "python",
     "metadata": {},
     "outputs": [
      {
       "output_type": "stream",
       "stream": "stdout",
       "text": [
        "[ 1.  2.  3.]\n",
        "[ 0.3  0.3  0.1]\n"
       ]
      }
     ],
     "prompt_number": 6
    },
    {
     "cell_type": "markdown",
     "metadata": {},
     "source": [
      "Kann man nat\u00fcrlich auch abk\u00fcrzen:"
     ]
    },
    {
     "cell_type": "code",
     "collapsed": false,
     "input": [
      "from uncertainties.unumpy import (nominal_values as noms,\n",
      "                                  std_devs as stds)\n",
      "\n",
      "print(noms(x))\n",
      "print(stds(x))"
     ],
     "language": "python",
     "metadata": {},
     "outputs": [
      {
       "output_type": "stream",
       "stream": "stdout",
       "text": [
        "[ 1.  2.  3.]\n",
        "[ 0.3  0.3  0.1]\n"
       ]
      }
     ],
     "prompt_number": 7
    },
    {
     "cell_type": "markdown",
     "metadata": {},
     "source": [
      "Man muss daran denken, die Funktionen aus unumpy zu benutzen (`exp`, `cos`, etc.)"
     ]
    },
    {
     "cell_type": "code",
     "collapsed": false,
     "input": [
      "unp.cos(x)"
     ],
     "language": "python",
     "metadata": {},
     "outputs": [
      {
       "metadata": {},
       "output_type": "pyout",
       "prompt_number": 9,
       "text": [
        "array([0.5403023058681398+/-0.25244129544236893,\n",
        "       -0.4161468365471424+/-0.2727892280477045,\n",
        "       -0.9899924966004454+/-0.014112000805986721], dtype=object)"
       ]
      }
     ],
     "prompt_number": 9
    },
    {
     "cell_type": "markdown",
     "metadata": {},
     "source": [
      "<img src=https://github.com/Chancellor-Arkantos/sympy/diff_blob/59119adc88d632bebdb38986d867e0dd40f76b94/doc/logo/SymPy-500x500-Logo.png?raw=true style=\"width: 300px;\"></img>\n",
      "\n",
      "- Problem: Die Assistenten m\u00f6chten aber trotzdem, dass man alle Ableitungen in das Protokoll schreibt\n",
      "- L\u00f6sung: Ableitungen automatisch generieren"
     ]
    },
    {
     "cell_type": "markdown",
     "metadata": {},
     "source": [
      "SymPy importieren:"
     ]
    },
    {
     "cell_type": "code",
     "collapsed": false,
     "input": [
      "from sympy import *"
     ],
     "language": "python",
     "metadata": {},
     "outputs": [],
     "prompt_number": 12
    },
    {
     "cell_type": "markdown",
     "metadata": {},
     "source": [
      "Mathematische Variablen erzeugen mit `var()`:"
     ]
    },
    {
     "cell_type": "code",
     "collapsed": false,
     "input": [
      "x, y, z = var('x y z')\n",
      "\n",
      "x + y + z"
     ],
     "language": "python",
     "metadata": {},
     "outputs": [
      {
       "metadata": {},
       "output_type": "pyout",
       "prompt_number": 15,
       "text": [
        "x + y + z"
       ]
      }
     ],
     "prompt_number": 15
    },
    {
     "cell_type": "markdown",
     "metadata": {},
     "source": [
      "Differenzieren mit `diff()`:"
     ]
    },
    {
     "cell_type": "code",
     "collapsed": false,
     "input": [
      "f = x + y**3 - cos(z)**2\n",
      "\n",
      "print(f.diff(x))\n",
      "print(f.diff(y))\n",
      "print(f.diff(z))\n",
      "print(f.diff(z, z, z))"
     ],
     "language": "python",
     "metadata": {},
     "outputs": [
      {
       "output_type": "stream",
       "stream": "stdout",
       "text": [
        "1\n",
        "3*y**2\n",
        "2*sin(z)*cos(z)\n",
        "-8*sin(z)*cos(z)\n"
       ]
      }
     ],
     "prompt_number": 25
    },
    {
     "cell_type": "markdown",
     "metadata": {},
     "source": [
      "Eine Funktion, die automatisch die Fehlerformel generiert:"
     ]
    },
    {
     "cell_type": "code",
     "collapsed": false,
     "input": [
      "from sympy import *\n",
      "\n",
      "def error(f, err_vars=None):\n",
      "    from sympy import Symbol, latex\n",
      "    s = 0\n",
      "    latex_names = dict()\n",
      "    \n",
      "    if err_vars == None:\n",
      "        err_vars = f.free_symbols\n",
      "        \n",
      "    for v in err_vars:\n",
      "        err = Symbol('latex_std_' + v.name)\n",
      "        s += f.diff(v)**2 * err**2\n",
      "        latex_names[err] = '\\\\sigma_{' + latex(v) + '}'\n",
      "        \n",
      "    return latex(sqrt(s), symbol_names=latex_names)\n",
      "\n",
      "E, q, r = var('E_x q r')\n",
      "\n",
      "f = E + q**2 * r\n",
      "\n",
      "print(error(f))"
     ],
     "language": "python",
     "metadata": {},
     "outputs": [
      {
       "output_type": "stream",
       "stream": "stdout",
       "text": [
        "\\sqrt{\\sigma_{E_{x}}^{2} + 4 \\sigma_{q}^{2} q^{2} r^{2} + \\sigma_{r}^{2} q^{4}}\n"
       ]
      }
     ],
     "prompt_number": 16
    },
    {
     "cell_type": "markdown",
     "metadata": {},
     "source": [
      "$$\\sqrt{\\sigma_{E_{x}}^{2} + 4 \\sigma_{q}^{2} q^{2} r^{2} + \\sigma_{r}^{2} q^{4}}$$"
     ]
    }
   ],
   "metadata": {}
  }
 ]
}