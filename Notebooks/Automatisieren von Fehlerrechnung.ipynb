{
 "metadata": {
  "name": ""
 },
 "nbformat": 3,
 "nbformat_minor": 0,
 "worksheets": [
  {
   "cells": [
    {
     "cell_type": "markdown",
     "metadata": {},
     "source": [
      "# Automatisieren von Fehlerrechnung\n",
      "\n",
      "$$ \\sigma_{f(x_i)} = \\sqrt{\\sum_i \\left( \\frac{\\partial f}{\\partial x_i}\\right)^{\\!2} \\sigma_{x_i}^2} $$\n",
      "\n",
      "- Gesucht: Fehler von $f(x_i)$, wenn $x_i$ Fehler haben\n",
      "- Manuelle Fehlerfortpflanzung:\n",
      " 1. Berechne die Ableitungen von $f$ nach allen fehlerbehafteten Gr\u00f6\u00dfen $x_i$\n",
      " 2. Ableitungen in die obere Formel einsetzen\n",
      " 3. Werte und Fehler der $x_i$ einsetzen\n",
      "- Probleme:\n",
      " - Kompliziert, dauert lange, man macht oft Fehler\n",
      " - Falsches Ergebnis, wenn $x_i$ korreliert sind\n",
      "\n",
      " # TODO: Korrelation erkl\u00e4ren\n",
      " \n",
      "## python-uncertainties\n",
      "\n",
      "- Erlaubt es, Fehlerrechnung automatisch durchzuf\u00fchren\n",
      "- Datentyp: `ufloat`, repr\u00e4sentiert Wert mit Fehler"
     ]
    },
    {
     "cell_type": "code",
     "collapsed": false,
     "input": [
      "from uncertainties import ufloat\n",
      "\n",
      "x = ufloat(5, 1)\n",
      "y = ufloat(3, 1)\n",
      "\n",
      "x + y"
     ],
     "language": "python",
     "metadata": {},
     "outputs": []
    },
    {
     "cell_type": "code",
     "collapsed": false,
     "input": [
      "# Korrelationen werden von uncertainties beachtet:\n",
      "x = ufloat(3, 1)\n",
      "y = ufloat(3, 1)\n",
      "\n",
      "print(x**2 - x) # Fehler ist kleiner!\n",
      "print(x**2 - y)"
     ],
     "language": "python",
     "metadata": {},
     "outputs": []
    },
    {
     "cell_type": "markdown",
     "metadata": {},
     "source": [
      "`uncertainties.unumpy` erg\u00e4nzt numpy:"
     ]
    },
    {
     "cell_type": "code",
     "collapsed": false,
     "input": [
      "import numpy as np\n",
      "import uncertainties.unumpy as unp\n",
      "\n",
      "x = np.array([1, 2, 3, 4, 5])\n",
      "err = np.array([0.1, 0.3, 0.1, 0.8, 1.0])\n",
      "\n",
      "y = unp.uarray(x, err)\n",
      "\n",
      "np.sum(unp.exp(y))"
     ],
     "language": "python",
     "metadata": {},
     "outputs": []
    },
    {
     "cell_type": "markdown",
     "metadata": {},
     "source": [
      "Zugriff auf Wert und Standardabweichung mit `n` und `s`:"
     ]
    },
    {
     "cell_type": "code",
     "collapsed": false,
     "input": [
      "x = ufloat(5, 1)\n",
      "print(x.n)\n",
      "print(x.s)"
     ],
     "language": "python",
     "metadata": {},
     "outputs": []
    },
    {
     "cell_type": "markdown",
     "metadata": {},
     "source": [
      "Bei `unumpy` mit `nominal_values` und `std_devs`"
     ]
    },
    {
     "cell_type": "code",
     "collapsed": false,
     "input": [
      "x = unp.uarray([1, 2, 3], [0.3, 0.3, 0.1])\n",
      "print(unp.nominal_values(x))\n",
      "print(unp.std_devs(x))"
     ],
     "language": "python",
     "metadata": {},
     "outputs": []
    },
    {
     "cell_type": "markdown",
     "metadata": {},
     "source": [
      "Kann man nat\u00fcrlich auch abk\u00fcrzen:"
     ]
    },
    {
     "cell_type": "code",
     "collapsed": false,
     "input": [
      "from uncertainties.unumpy import (nominal_values as noms,\n",
      "                                  std_devs as stds)\n",
      "\n",
      "print(noms(x))\n",
      "print(stds(x))"
     ],
     "language": "python",
     "metadata": {},
     "outputs": []
    },
    {
     "cell_type": "markdown",
     "metadata": {},
     "source": [
      "Man muss daran denken, die Funktionen aus unumpy zu benutzen (`exp`, `cos`, etc.)"
     ]
    },
    {
     "cell_type": "code",
     "collapsed": false,
     "input": [
      "np.cos(x)"
     ],
     "language": "python",
     "metadata": {},
     "outputs": []
    },
    {
     "cell_type": "markdown",
     "metadata": {},
     "source": [
      "<img src=https://github.com/Chancellor-Arkantos/sympy/diff_blob/59119adc88d632bebdb38986d867e0dd40f76b94/doc/logo/SymPy-500x500-Logo.png?raw=true style=\"width: 300px;\"></img>\n",
      "\n",
      "- Problem: Die Assistenten m\u00f6chten aber trotzdem, dass man alle Ableitungen in das Protokoll schreibt\n",
      "- L\u00f6sung: Ableitungen automatisch generieren"
     ]
    },
    {
     "cell_type": "code",
     "collapsed": false,
     "input": [
      "from sympy import *\n",
      "\n",
      "def error(f):\n",
      "    from sympy import Symbol, latex\n",
      "    s = 0\n",
      "    latex_names = dict()\n",
      "    for v in f.free_symbols:\n",
      "        err = Symbol('latex_std_' + v.name)\n",
      "        s += f.diff(v)**2 * err**2\n",
      "        latex_names[err] = '\\\\sigma_{' + latex(v) + '}'\n",
      "    return latex(sqrt(s), symbol_names=latex_names)\n",
      "\n",
      "E, q, r = var('E_x q r')\n",
      "\n",
      "f = E + q**2 * r\n",
      "\n",
      "print(error(f))"
     ],
     "language": "python",
     "metadata": {},
     "outputs": []
    },
    {
     "cell_type": "markdown",
     "metadata": {},
     "source": [
      "$$\\sqrt{\\sigma_{E_{x}}^{2} + 4 \\sigma_{q}^{2} q^{2} r^{2} + \\sigma_{r}^{2} q^{4}}$$"
     ]
    }
   ],
   "metadata": {}
  }
 ]
}