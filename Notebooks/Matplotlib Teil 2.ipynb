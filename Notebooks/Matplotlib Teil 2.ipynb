{
 "metadata": {
  "name": ""
 },
 "nbformat": 3,
 "nbformat_minor": 0,
 "worksheets": [
  {
   "cells": [
    {
     "cell_type": "markdown",
     "metadata": {},
     "source": [
      "# Matplotlib (Teil 2)\n",
      "\n",
      "Nachdem wir uns nun etwas ausf\u00fchrlicher mit Python und diversen Bibliotheken besch\u00e4ftigt haben, wird es Zeit, dieses Wissen zu nutzen, um den Umgang mit `matplotlib` zu erleichten."
     ]
    },
    {
     "cell_type": "code",
     "collapsed": false,
     "input": [
      "# set up\n",
      "%matplotlib inline\n",
      "\n",
      "from __future__ import (print_function,\n",
      "                        division,\n",
      "                        unicode_literals,\n",
      "                        absolute_import)\n",
      "\n",
      "import matplotlib as mpl\n",
      "import matplotlib.pyplot as plt\n",
      "import numpy as np\n",
      "import scipy.optimize as sopt\n",
      "import uncertainties as unc\n",
      "import uncertainties.unumpy as unp"
     ],
     "language": "python",
     "metadata": {},
     "outputs": []
    },
    {
     "cell_type": "markdown",
     "metadata": {},
     "source": [
      "Matplotlib kann mit `numpy` arrays umgehen."
     ]
    },
    {
     "cell_type": "code",
     "collapsed": false,
     "input": [
      "x = np.linspace(0, 2 * np.pi, 100)\n",
      "sin = np.sin(x)\n",
      "cos = np.cos(x)\n",
      "diff = cos - sin  # Numpy arrays lassen sich subtrahieren; Listen nicht!\n",
      "\n",
      "plt.plot(x, cos, 'r-', label='cos(x)')\n",
      "plt.plot(x, sin, 'b-', label='sin(x)')\n",
      "plt.plot(x, diff, 'k:', label='cos(x) - sin(x)')\n",
      "plt.xlabel('x')\n",
      "plt.xlim([0, 2 * np.pi])\n",
      "plt.legend(loc='lower left')\n",
      "plt.show()"
     ],
     "language": "python",
     "metadata": {},
     "outputs": []
    },
    {
     "cell_type": "code",
     "collapsed": false,
     "input": [
      "nom = unp.nominal_values\n",
      "std = unp.std_devs\n",
      "\n",
      "x, y = np.loadtxt('example2.txt', unpack=True)\n",
      "xs = unp.radians(unp.uarray(x, 5))\n",
      "ys = unp.uarray(y, 1)\n",
      "\n",
      "par, cov = sopt.curve_fit(\n",
      "    lambda x, a, b: a * np.sin(x) + b,\n",
      "    nom(xs),\n",
      "    nom(ys),\n",
      "    p0=[1, 0],\n",
      "    sigma=std(ys)\n",
      ")\n",
      "print(par)\n",
      "\n",
      "plt.errorbar(nom(xs), nom(ys), xerr=std(xs), yerr=std(ys), fmt='r.', label='data')\n",
      "r = np.linspace(-.2, 2 * np.pi + .2, 1000)\n",
      "plt.plot(r, par[0] * np.sin(r) + par[1], label='fit')\n",
      "plt.xlabel('x / rad')\n",
      "plt.xlim([r[0], r[-1]])\n",
      "plt.legend(loc='upper right')\n",
      "plt.show()"
     ],
     "language": "python",
     "metadata": {},
     "outputs": []
    },
    {
     "cell_type": "code",
     "collapsed": false,
     "input": [],
     "language": "python",
     "metadata": {},
     "outputs": []
    }
   ],
   "metadata": {}
  }
 ]
}