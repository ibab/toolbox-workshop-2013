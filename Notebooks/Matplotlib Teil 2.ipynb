{
 "metadata": {
  "name": ""
 },
 "nbformat": 3,
 "nbformat_minor": 0,
 "worksheets": [
  {
   "cells": [
    {
     "cell_type": "markdown",
     "metadata": {},
     "source": [
      "# Matplotlib (Teil 2)\n",
      "\n",
      "Nachdem wir uns nun etwas ausf\u00fchrlicher mit Python und diversen Bibliotheken besch\u00e4ftigt haben, wird es Zeit, dieses Wissen zu nutzen, um den Umgang mit `matplotlib` zu erleichten."
     ]
    },
    {
     "cell_type": "code",
     "collapsed": false,
     "input": [
      "# set up\n",
      "%matplotlib inline\n",
      "from __future__ import (print_function,\n",
      "                        division,\n",
      "                        unicode_literals,\n",
      "                        absolute_import)\n",
      "import matplotlib.pyplot as plt\n",
      "import numpy as np\n",
      "import uncertainties as u\n",
      "import uncertainties.unumpy as unp"
     ],
     "language": "python",
     "metadata": {},
     "outputs": []
    },
    {
     "cell_type": "markdown",
     "metadata": {},
     "source": [
      "Matplotlib kann mit `numpy` arrays umgehen."
     ]
    },
    {
     "cell_type": "code",
     "collapsed": false,
     "input": [
      "x = np.linspace(0, 2 * np.pi, 100)\n",
      "sin = np.sin(x)\n",
      "cos = np.cos(x)\n",
      "diff = cos - sin  # Numpy arrays lassen sich subtrahieren; Listen nicht!\n",
      "\n",
      "plt.plot(x, cos, 'r-', label='cos(x)')\n",
      "plt.plot(x, sin, 'b-', label='sin(x)')\n",
      "plt.plot(x, diff, 'k:', label='cos(x) - sin(x)')\n",
      "plt.xlabel('x')\n",
      "plt.xlim([0, 2 * np.pi])\n",
      "plt.legend(loc='lower left')\n",
      "plt.show()"
     ],
     "language": "python",
     "metadata": {},
     "outputs": []
    },
    {
     "cell_type": "code",
     "collapsed": false,
     "input": [
      "x, y = np.loadtxt('example2.txt', unpack=True)\n",
      "xs = unp.uarray(x, 5)\n",
      "ys = unp.uarray(y, 1)\n",
      "\n",
      "nom = unp.nominal_values\n",
      "std = unp.std_devs\n",
      "\n",
      "plt.errorbar(nom(xs), nom(ys), xerr=std(xs), yerr=std(ys), fmt='r.')\n",
      "r = np.linspace(0, 2 * np.pi, 1000)\n",
      "plt.plot(np.rad2deg(r), 3 * np.sin(r) + 2)\n",
      "plt.xlim([0, 360])\n",
      "plt.show()\n"
     ],
     "language": "python",
     "metadata": {},
     "outputs": []
    }
   ],
   "metadata": {}
  }
 ]
}