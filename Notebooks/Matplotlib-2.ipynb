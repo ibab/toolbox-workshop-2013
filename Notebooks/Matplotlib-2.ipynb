{
 "metadata": {
  "name": ""
 },
 "nbformat": 3,
 "nbformat_minor": 0,
 "worksheets": [
  {
   "cells": [
    {
     "cell_type": "markdown",
     "metadata": {},
     "source": [
      "# Datenvisualisierung mit Matplotlib\n",
      "\n"
     ]
    },
    {
     "cell_type": "markdown",
     "metadata": {},
     "source": [
      "Als erstes: IPython interaktiv machen:"
     ]
    },
    {
     "cell_type": "code",
     "collapsed": false,
     "input": [
      "%matplotlib inline\n",
      "# bei euch: %maplotlib qt"
     ],
     "language": "python",
     "metadata": {},
     "outputs": []
    },
    {
     "cell_type": "markdown",
     "metadata": {},
     "source": [
      "Man kann beliebige Python-Kommandos eingeben.\n",
      "\n",
      "Um mit Matplotlib arbeiten zu k\u00f6nnen, muss die Bibliothek erst einmal importiert werden:"
     ]
    },
    {
     "cell_type": "code",
     "collapsed": false,
     "input": [
      "from pylab import *"
     ],
     "language": "python",
     "metadata": {},
     "outputs": []
    },
    {
     "cell_type": "markdown",
     "metadata": {},
     "source": [
      "Ein einfaches Beispiel:"
     ]
    },
    {
     "cell_type": "code",
     "collapsed": false,
     "input": [
      "x = linspace(0, 1)\n",
      "plot(x, x**2)\n",
      "# Falls nicht interaktiv: show()"
     ],
     "language": "python",
     "metadata": {},
     "outputs": []
    },
    {
     "cell_type": "markdown",
     "metadata": {},
     "source": [
      "Anderes Beispiel: $\\sin(t)$"
     ]
    },
    {
     "cell_type": "code",
     "collapsed": false,
     "input": [
      "t = linspace(0, 2 * pi)\n",
      "plot(t, sin(t))\n",
      "#plot(t, sin(t), 'r--')\n",
      "#plot(t, sin(t), 'go')"
     ],
     "language": "python",
     "metadata": {},
     "outputs": []
    },
    {
     "cell_type": "markdown",
     "metadata": {},
     "source": [
      "Tabelle mit allen Farben und Styles: [matplotlib.axes.Axes.plot](http://matplotlib.org/api/axes_api.html#matplotlib.axes.Axes.plot)"
     ]
    },
    {
     "cell_type": "code",
     "collapsed": false,
     "input": [
      "plot(t, sin(t))\n",
      "#xlim(0, 2 * pi)\n",
      "#ylim(-1.2, 1.2)"
     ],
     "language": "python",
     "metadata": {},
     "outputs": []
    },
    {
     "cell_type": "markdown",
     "metadata": {},
     "source": [
      "## Es fehlt noch etwas...\n",
      "![XKCD comic on why you should label your axes.](http://imgs.xkcd.com/comics/convincing.png \"And if you labeled your axes, I could tell you exactly how MUCH better.\")"
     ]
    },
    {
     "cell_type": "code",
     "collapsed": false,
     "input": [
      "with xkcd():\n",
      "    plot(t, sin(t))\n",
      "    xlabel('t')\n",
      "    ylabel('sin(t)')"
     ],
     "language": "python",
     "metadata": {},
     "outputs": []
    },
    {
     "cell_type": "code",
     "collapsed": false,
     "input": [
      "plot(t, sin(t))\n",
      "xlabel('$t$')\n",
      "ylabel('$\\sin(t)$')"
     ],
     "language": "python",
     "metadata": {},
     "outputs": []
    },
    {
     "cell_type": "code",
     "collapsed": false,
     "input": [
      "plot(t, sin(t), label=r'$\\sin(t)$')\n",
      "legend()\n",
      "#legend(loc='lower left')"
     ],
     "language": "python",
     "metadata": {},
     "outputs": []
    },
    {
     "cell_type": "markdown",
     "metadata": {},
     "source": [
      "## `x` und `f(x)` sind einfach nur Datenpunkte:"
     ]
    },
    {
     "cell_type": "code",
     "collapsed": false,
     "input": [
      "x = array([1, 2, 3, 4])\n",
      "x\n",
      "#x**2\n",
      "#plot(x, x**2, 'ro-')"
     ],
     "language": "python",
     "metadata": {},
     "outputs": []
    },
    {
     "cell_type": "markdown",
     "metadata": {},
     "source": [
      "## Laden von Daten"
     ]
    },
    {
     "cell_type": "code",
     "collapsed": false,
     "input": [
      "x, y = loadtxt('example_data.txt', unpack=True)\n",
      "\n",
      "#plot(x, y, 'k.')"
     ],
     "language": "python",
     "metadata": {},
     "outputs": []
    },
    {
     "cell_type": "markdown",
     "metadata": {},
     "source": [
      "## Auslagern in ein Skript\n",
      "Speichert den folgenden Code in eine Textdatei `plot.py` ab.\n",
      "\n",
      "\u00d6ffnet ein Terminal und startet das Programm:\n",
      "    \n",
      "    python2 plot.py"
     ]
    },
    {
     "cell_type": "code",
     "collapsed": false,
     "input": [
      "from pylab import *\n",
      "\n",
      "x = linspace(0, 1)\n",
      "plot(x, x**2, 'b-')\n",
      "savefig('plot.pdf')"
     ],
     "language": "python",
     "metadata": {},
     "outputs": []
    },
    {
     "cell_type": "markdown",
     "metadata": {},
     "source": [
      "Mit `savefig` speichert man die Abbildung.\n",
      "\n",
      "In diesem Fall sollte die Datei `plot.pdf` erstellt worden sein.\n",
      "\n",
      "Es gibt viele Ausgabeformate: `pdf`, `png`, `svg`, LaTeX"
     ]
    },
    {
     "cell_type": "markdown",
     "metadata": {},
     "source": [
      "## Komplexere Abbildungen"
     ]
    },
    {
     "cell_type": "markdown",
     "metadata": {},
     "source": [
      "Nat\u00fcrlich kann man mehrere Linien in einen Plot packen:"
     ]
    },
    {
     "cell_type": "code",
     "collapsed": false,
     "input": [
      "x = linspace(0, 1)\n",
      "\n",
      "plot(x, x**2, label='$x^2$')\n",
      "plot(x, x**4)\n",
      "plot(x, x**6, 'o', label='$x^6$')\n",
      "\n",
      "legend(loc='best')"
     ],
     "language": "python",
     "metadata": {},
     "outputs": []
    },
    {
     "cell_type": "markdown",
     "metadata": {},
     "source": [
      "Es werden nur die Linien in der Legende angezeigt, die einen Label haben."
     ]
    },
    {
     "cell_type": "markdown",
     "metadata": {},
     "source": [
      "Man kann auch mehrere Plots in ein Bild packen:"
     ]
    },
    {
     "cell_type": "code",
     "collapsed": false,
     "input": [
      "x = linspace(0, 2 * pi)\n",
      "\n",
      "fig, (ax1, ax2) = subplots(1, 2)\n",
      "\n",
      "ax1.plot(x, x**2)\n",
      "ax1.set_xlim(0, 2 * pi)\n",
      "\n",
      "ax2.plot(x, sin(x))\n",
      "ax2.set_xlim(0, 2 * pi)"
     ],
     "language": "python",
     "metadata": {},
     "outputs": []
    },
    {
     "cell_type": "markdown",
     "metadata": {},
     "source": [
      "Fehlerbalken sind ganz wichtig:"
     ]
    },
    {
     "cell_type": "code",
     "collapsed": false,
     "input": [
      "x = linspace(0, 2 * pi, 10)\n",
      "err = rand(10)\n",
      "\n",
      "errorbar(x, sin(x) + 0.3 * rand(10), yerr=err, fmt='o-')\n",
      "errorbar(x, cos(x) + 0.3 * rand(10), xerr=err)\n",
      "errorbar(x, 0.5 * x + 0.2 * rand(10), xerr=err, yerr=err)"
     ],
     "language": "python",
     "metadata": {},
     "outputs": []
    },
    {
     "cell_type": "markdown",
     "metadata": {},
     "source": [
      "Logarithmische (und auch viele andere) Skalierung der Achsen ist auch m\u00f6glich:"
     ]
    },
    {
     "cell_type": "code",
     "collapsed": false,
     "input": [
      "x = linspace(0, 10)\n",
      "\n",
      "plot(x, exp(-x))\n",
      "yscale('log')\n",
      "#xscale('log')"
     ],
     "language": "python",
     "metadata": {},
     "outputs": []
    },
    {
     "cell_type": "markdown",
     "metadata": {},
     "source": [
      "Manchmal braucht man einen Polarplot:"
     ]
    },
    {
     "cell_type": "code",
     "collapsed": false,
     "input": [
      "r = linspace(0, 10)\n",
      "theta = 2 * pi * r\n",
      "\n",
      "polar(theta, r)\n",
      "xlabel('foo')\n",
      "ylabel('bar')"
     ],
     "language": "python",
     "metadata": {},
     "outputs": []
    },
    {
     "cell_type": "markdown",
     "metadata": {},
     "source": [
      "Man kann sehr viele Sachen mit Ticks (und auch TikZ) machen\u2026\u2026"
     ]
    },
    {
     "cell_type": "code",
     "collapsed": false,
     "input": [
      "x = linspace(0, 2 * pi)\n",
      "\n",
      "plot(x, sin(x))\n",
      "xlim(0, 2 * pi)\n",
      "xticks([0, pi / 2, pi, 3 * pi / 2, 2 * pi], [r\"$0$\", r\"$\\frac{\\tau}{4}$\", r\"$\\frac{\\tau}{2}$\", r\"$\\frac{3\\tau}{4}$\", r\"$\\tau$\"])\n",
      "title(r\"$\\tau$ FTW!\")"
     ],
     "language": "python",
     "metadata": {},
     "outputs": []
    },
    {
     "cell_type": "code",
     "collapsed": false,
     "input": [
      "import calendar\n",
      "\n",
      "plot(arange(12), rand(12))\n",
      "xlim(0, 11)\n",
      "xticks(arange(12), calendar.month_name[1:13], rotation=45, rotation_mode='anchor', ha='right', va='top')"
     ],
     "language": "python",
     "metadata": {},
     "outputs": []
    }
   ],
   "metadata": {}
  }
 ]
}