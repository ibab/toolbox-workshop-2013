{
 "metadata": {
  "name": ""
 },
 "nbformat": 3,
 "nbformat_minor": 0,
 "worksheets": [
  {
   "cells": [
    {
     "cell_type": "markdown",
     "metadata": {},
     "source": [
      "# Matplotlib\n",
      "\n",
      "> [matplotlib](http://matplotlib.org/) is a python 2D plotting library which produces publication quality figures in a variety of hardcopy formats and interactive environments across platforms. matplotlib can be used in python scripts, the python and ipython shell (ala MATLAB\u00ae* or Mathematica\u00ae\u2020), web application servers, and six graphical user interface toolkits.\n",
      "\n",
      "This introduction requires little to no knowledge of python and is aimed at beginners. We give inline code examples that you can run and modify in order to get a basic understanding of the library. The follow up tutorials will explain python and other libraries in more depth.\n",
      "\n",
      "In order to get started, have a look at the following piece of code. At this point you don't need to understand every single line expression by expression. However, since python's syntax is very expressive, you'll probably get an idea what the code does. You can run it in the IPython notebook to see the result it produces."
     ]
    },
    {
     "cell_type": "code",
     "collapsed": false,
     "input": [
      "import matplotlib.pyplot as plt  # import matplotlib to use its awesome features\n",
      "\n",
      "x = [1, 2, 3, 4, 5, 6, 7, 8, 9, 10]\n",
      "y = [1, 4, 9, 16, 25, 36, 49, 64, 81, 100]\n",
      "\n",
      "plt.plot(x, y, 'k.')  # 'k.' specifies the markers to be black dotsplt.title('A Simple Plot')\n",
      "plt.show()"
     ],
     "language": "python",
     "metadata": {},
     "outputs": []
    },
    {
     "cell_type": "markdown",
     "metadata": {},
     "source": [
      "That was pretty straightforward, wasn't it? You can play around a little bit with the above code. You can try to\n",
      "\n",
      " * Add more points\n",
      " * Change the look of the markers\n",
      " \n",
      "The next piece of code is an extension to the above example: we add a title to the plot and labels to the axes. Never forget to label your axes. (In this tutorial we will at some points in order to keep the code examples short.)\n",
      "\n",
      "![XKCD comic on why you should label your axes.](http://imgs.xkcd.com/comics/convincing.png)\n",
      "\n",
      "_Be aware that the code requires the above bit to have run before._"
     ]
    },
    {
     "cell_type": "code",
     "collapsed": false,
     "input": [
      "plt.plot(x, y, 'k.')\n",
      "plt.title('A Simple Plot')\n",
      "plt.xlabel('x')\n",
      "plt.ylabel('y')\n",
      "plt.show()"
     ],
     "language": "python",
     "metadata": {},
     "outputs": []
    },
    {
     "cell_type": "markdown",
     "metadata": {},
     "source": [
      "Speaking of xkcd:"
     ]
    },
    {
     "cell_type": "code",
     "collapsed": false,
     "input": [
      "with plt.xkcd():  # here 'with' makes sure not everything after this is xkcd-style\n",
      "    plt.plot(x, y, 'k.')\n",
      "    plt.title('A Simple xkcd-style Plot')\n",
      "    plt.xlabel('x')\n",
      "    plt.ylabel('y')\n",
      "    plt.xticks([3, 6, 9])\n",
      "    plt.yticks([20, 40, 60, 80])\n",
      "    plt.show()"
     ],
     "language": "python",
     "metadata": {},
     "outputs": []
    },
    {
     "cell_type": "markdown",
     "metadata": {},
     "source": [
      "Yes, matplotlib even has a feature to make plots [xkcd-style](http://jakevdp.github.io/blog/2013/07/10/XKCD-plots-in-matplotlib/). But you might not want to use it in your lab reports\u2026\n",
      "\n",
      "I hope we gave you a bit of an idea that matplotlib is (or might be, if you're still suspiscious) pretty awesome. So let's get down to some actual business."
     ]
    },
    {
     "cell_type": "markdown",
     "metadata": {},
     "source": [
      "## Numpy\n",
      "Matplotlib itself is capable of most (or maybe even all) of the plotting you could ever wish for. However, when it comes to handling data, we'll make use of another library: [numpy](http://www.numpy.org/)\n",
      "\n",
      "First, numpy is fast because it relies on a C-backend. Secondly, it has very sophisticated tools take make working with data easy. Consider the following example."
     ]
    },
    {
     "cell_type": "code",
     "collapsed": false,
     "input": [
      "import numpy as np\n",
      "\n",
      "t = numpy.linspace(0, 2 * np.pi, 1000)  # make an array of 1000 entries equally distributed between 0 and 2\u03c0\n",
      "cos_t = np.cos(t)\n",
      "sin_t = np.sin(t)\n",
      "\n",
      "plt.plot(t, cos_t, 'r-', label='cos(t)')\n",
      "plt.plot(t, sin_t, 'b--', label='sin(t)')\n",
      "plt.legend()\n",
      "plt.show()"
     ],
     "language": "python",
     "metadata": {},
     "outputs": []
    },
    {
     "cell_type": "code",
     "collapsed": false,
     "input": [
      "x, y = np.loadtxt('example_data.txt', unpack=True)  # load data from file and unpack to the variables\n",
      "line = 5 * x  # numpy makes this possible\n",
      "\n",
      "plt.plot(x, y, 'k.', label='data')\n",
      "plt.plot(x, line, 'r-', label='line')\n",
      "plt.legend(loc='upper left')\n",
      "plt.show()"
     ],
     "language": "python",
     "metadata": {},
     "outputs": []
    },
    {
     "cell_type": "code",
     "collapsed": false,
     "input": [],
     "language": "python",
     "metadata": {},
     "outputs": []
    },
    {
     "cell_type": "code",
     "collapsed": false,
     "input": [],
     "language": "python",
     "metadata": {},
     "outputs": []
    }
   ],
   "metadata": {}
  }
 ]
}