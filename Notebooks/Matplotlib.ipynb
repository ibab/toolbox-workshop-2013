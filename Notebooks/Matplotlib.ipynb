{
 "metadata": {
  "name": "Matplotlib"
 },
 "nbformat": 3,
 "nbformat_minor": 0,
 "worksheets": [
  {
   "cells": [
    {
     "cell_type": "markdown",
     "metadata": {},
     "source": "# Matplotlib\n\n> [matplotlib](http://matplotlib.org/) is a python 2D plotting library which produces publication quality figures in a variety of hardcopy formats and interactive environments across platforms. matplotlib can be used in python scripts, the python and ipython shell (ala MATLAB\u00ae* or Mathematica\u00ae\u2020), web application servers, and six graphical user interface toolkits.\n\nThis introduction requires little to no knowledge of python and is aimed at beginners. We give inline code examples that you can run and modify in order to get a basic understanding of the library. The follow up tutorials will explain python and other libraries in more depth.\n\nIn order to get started, have a look at the following piece of code. At this point you don't need to understand every single line expression by expression. However, since python's syntax is very expressive, you'll probably get an idea what the code does. You can run it in the IPython notebook to see the result it produces."
    },
    {
     "cell_type": "code",
     "collapsed": false,
     "input": "import matplotlib.pyplot as plt  # import matplotlib to use its awesome features\n\nx = [1, 2, 3, 4, 5, 6, 7, 8, 9, 10]\ny = [1, 4, 9, 16, 25, 36, 49, 64, 81, 100]\n\nplt.plot(x, y, 'k.')  # 'k.' specifies the markers to be black dots\nplt.show()",
     "language": "python",
     "metadata": {},
     "outputs": [
      {
       "metadata": {},
       "output_type": "display_data",
       "png": "[encoded data removed]",
       "text": "<matplotlib.figure.Figure at 0x109d32a10>"
      }
     ],
     "prompt_number": 8
    },
    {
     "cell_type": "markdown",
     "metadata": {},
     "source": "That was pretty straightforward, wasn't it? You can play around a little bit with the above code. You can try to\n\n * Add more points\n * Change the look of the markers"
    },
    {
     "cell_type": "code",
     "collapsed": false,
     "input": "",
     "language": "python",
     "metadata": {},
     "outputs": []
    },
    {
     "cell_type": "code",
     "collapsed": false,
     "input": "",
     "language": "python",
     "metadata": {},
     "outputs": []
    }
   ],
   "metadata": {}
  }
 ]
}