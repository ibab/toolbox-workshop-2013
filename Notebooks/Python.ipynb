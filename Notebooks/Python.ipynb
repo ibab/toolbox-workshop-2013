{
 "metadata": {
  "name": ""
 },
 "nbformat": 3,
 "nbformat_minor": 0,
 "worksheets": [
  {
   "cells": [
    {
     "cell_type": "markdown",
     "metadata": {},
     "source": [
      "![Python](http://www.python.org/community/logos/python-logo-generic.svg)\n",
      "\n",
      "- alte Version: Python 2\n",
      "- um neue Features bereits zu benutzen:"
     ]
    },
    {
     "cell_type": "code",
     "collapsed": false,
     "input": [
      "# encoding: utf-8\n",
      "from __future__ import (print_function,\n",
      "                        division,\n",
      "                        unicode_literals,\n",
      "                        absolute_import)"
     ],
     "language": "python",
     "metadata": {
      "slideshow": {
       "slide_type": "-"
      }
     },
     "outputs": []
    },
    {
     "cell_type": "markdown",
     "metadata": {},
     "source": [
      "Einfachstes Beispiel:"
     ]
    },
    {
     "cell_type": "code",
     "collapsed": false,
     "input": [
      "print('Hello, World!')"
     ],
     "language": "python",
     "metadata": {},
     "outputs": []
    },
    {
     "cell_type": "markdown",
     "metadata": {},
     "source": [
      "Zum Vergleich: C++\n",
      "\n",
      "    #include <iostream>\n",
      "\n",
      "    using namespace std;\n",
      "\n",
      "    int main(int argc, char *argv[])\n",
      "    {\n",
      "        cout << \"Hello, World!\" << endl;\n",
      "        return 0;\n",
      "    }"
     ]
    },
    {
     "cell_type": "markdown",
     "metadata": {},
     "source": [
      "## Einfache Datentypen\n",
      "\n",
      "Python stellt bereit:\n",
      "\n",
      "- Booleans: `True, False`\n",
      "- Ganze Zahlen (Integer): `42`\n",
      "- Floating-Point-Zahlen: `3.14`\n",
      "- Strings (Zeichenketten, Textausschnitte): `'Test'` oder `\"Test\"`\n",
      "- Listen: [1, 2, 3]\n",
      "- Dictionaries: { 'eins': 1, 'zwei': 2, 'drei': 3 }\n",
      "- Tupel: ('test', 1)"
     ]
    },
    {
     "cell_type": "markdown",
     "metadata": {},
     "source": [
      "## Variablen\n",
      "\n",
      "- Man kann einem Objekt einen Namen geben:"
     ]
    },
    {
     "cell_type": "code",
     "collapsed": false,
     "input": [
      "namen = ['foo', 'bar', 'baz']"
     ],
     "language": "python",
     "metadata": {},
     "outputs": []
    },
    {
     "cell_type": "code",
     "collapsed": false,
     "input": [
      "namen[1]"
     ],
     "language": "python",
     "metadata": {},
     "outputs": []
    },
    {
     "cell_type": "code",
     "collapsed": false,
     "input": [
      "zahlen = { 'eins': 1, 'zwei': 2, 'drei': 3 }\n",
      "zahlen['zwei']"
     ],
     "language": "python",
     "metadata": {},
     "outputs": []
    },
    {
     "cell_type": "markdown",
     "metadata": {},
     "source": [
      "Variablennamen k\u00f6nnen auch \u00fcberschrieben werden:"
     ]
    },
    {
     "cell_type": "code",
     "collapsed": false,
     "input": [
      "a = 42\n",
      "b = a\n",
      "\n",
      "a = 0\n",
      "b"
     ],
     "language": "python",
     "metadata": {},
     "outputs": []
    },
    {
     "cell_type": "markdown",
     "metadata": {},
     "source": [
      "## Vergleichsoperatoren\n",
      "\n",
      "geben `True` oder `False` zur\u00fcck\n",
      "\n",
      "- `==`, `!=`\n",
      "- `>`, `<`, `>=`, `<=`"
     ]
    },
    {
     "cell_type": "code",
     "collapsed": false,
     "input": [
      "'Test' == 42"
     ],
     "language": "python",
     "metadata": {},
     "outputs": []
    },
    {
     "cell_type": "markdown",
     "metadata": {},
     "source": [
      "## Logische Operatoren\n",
      "\n",
      "- `and`, `or`, `not`, `in`"
     ]
    },
    {
     "cell_type": "code",
     "collapsed": false,
     "input": [],
     "language": "python",
     "metadata": {},
     "outputs": []
    },
    {
     "cell_type": "markdown",
     "metadata": {},
     "source": [
      "## Rechenoperatoren\n",
      "Es gibt:\n",
      "\n",
      "- `+`, `-`, `*` \n",
      "- `**` (Potenzieren: 2\\*\\*3 == 8)\n",
      "- `/` (3 / 2 == 1.5 mit `__from__ future import division`)\n",
      "- `//` (3 // 2 == 1)\n",
      "- `%` (Divisionsrest)"
     ]
    },
    {
     "cell_type": "code",
     "collapsed": false,
     "input": [
      "['test'] + ['abc']"
     ],
     "language": "python",
     "metadata": {},
     "outputs": []
    },
    {
     "cell_type": "markdown",
     "metadata": {},
     "source": [
      "## Funktionen aufrufen\n",
      "\n"
     ]
    },
    {
     "cell_type": "code",
     "collapsed": false,
     "input": [
      "print('Hello!')"
     ],
     "language": "python",
     "metadata": {},
     "outputs": []
    },
    {
     "cell_type": "code",
     "collapsed": false,
     "input": [
      "len([1, 2, 3, 4, 5])"
     ],
     "language": "python",
     "metadata": {},
     "outputs": []
    },
    {
     "cell_type": "code",
     "collapsed": false,
     "input": [
      "import math\n",
      "math.cos(1.0)"
     ],
     "language": "python",
     "metadata": {},
     "outputs": []
    },
    {
     "cell_type": "markdown",
     "metadata": {},
     "source": [
      "Viele Funktionen k\u00f6nnen beliebig viele Argumente haben:"
     ]
    },
    {
     "cell_type": "code",
     "collapsed": false,
     "input": [
      "print(1, 2, 3)"
     ],
     "language": "python",
     "metadata": {},
     "outputs": []
    },
    {
     "cell_type": "markdown",
     "metadata": {},
     "source": [
      "Man kann auch sogenannte Keyword-Arguments \u00fcbergeben:"
     ]
    },
    {
     "cell_type": "code",
     "collapsed": false,
     "input": [
      "print(1, 2, 3, sep=', ')"
     ],
     "language": "python",
     "metadata": {},
     "outputs": []
    },
    {
     "cell_type": "markdown",
     "metadata": {},
     "source": [
      "Objekte haben auch Funktionen (nennt man Methoden):"
     ]
    },
    {
     "cell_type": "code",
     "collapsed": false,
     "input": [
      "'foo bar baz'.split()"
     ],
     "language": "python",
     "metadata": {},
     "outputs": []
    },
    {
     "cell_type": "code",
     "collapsed": false,
     "input": [
      "s = 'test'\n",
      "s.upper()"
     ],
     "language": "python",
     "metadata": {},
     "outputs": []
    },
    {
     "cell_type": "markdown",
     "metadata": {},
     "source": [
      "## Kontrollstrukturen\n",
      "\n",
      "- if/elif/else"
     ]
    },
    {
     "cell_type": "code",
     "collapsed": false,
     "input": [
      "# dies ist ein Kommentar\n",
      "\n",
      "if 1 == 3:\n",
      "    # muss einger\u00fcckt werden, 4 spaces:\n",
      "    print('foo')\n",
      "elif 1 == 2:\n",
      "    print('bar')\n",
      "else:\n",
      "    print('baz')"
     ],
     "language": "python",
     "metadata": {},
     "outputs": []
    },
    {
     "cell_type": "markdown",
     "metadata": {},
     "source": [
      "- `while`-Schleifen"
     ]
    },
    {
     "cell_type": "code",
     "collapsed": false,
     "input": [
      "i = 0\n",
      "while i < 5:\n",
      "    print(i)\n",
      "    i += 1"
     ],
     "language": "python",
     "metadata": {},
     "outputs": []
    },
    {
     "cell_type": "markdown",
     "metadata": {},
     "source": [
      "\n",
      " - `for`-Schleifen"
     ]
    },
    {
     "cell_type": "code",
     "collapsed": false,
     "input": [
      "for i in range(5):\n",
      "    print(i)"
     ],
     "language": "python",
     "metadata": {},
     "outputs": []
    },
    {
     "cell_type": "code",
     "collapsed": false,
     "input": [
      "for i in range(2, 5):\n",
      "    print(i)"
     ],
     "language": "python",
     "metadata": {},
     "outputs": []
    },
    {
     "cell_type": "code",
     "collapsed": false,
     "input": [
      "for i in range(10, 3, -1):\n",
      "    print(i)"
     ],
     "language": "python",
     "metadata": {},
     "outputs": []
    },
    {
     "cell_type": "markdown",
     "metadata": {},
     "source": [
      "## Eigene Funktionen definieren mit `def`"
     ]
    },
    {
     "cell_type": "code",
     "collapsed": false,
     "input": [
      "def add(x, y):\n",
      "    return x + y\n",
      "\n",
      "add(2, 2)"
     ],
     "language": "python",
     "metadata": {},
     "outputs": []
    },
    {
     "cell_type": "markdown",
     "metadata": {},
     "source": [
      "Man kann auch mehrere Werte zur\u00fcckgeben:"
     ]
    },
    {
     "cell_type": "code",
     "collapsed": false,
     "input": [
      "def divide(x, y):\n",
      "    return x // y, x % y\n",
      "\n",
      "n, rest = divide(5, 3)\n",
      "print(n)\n",
      "print(rest)"
     ],
     "language": "python",
     "metadata": {},
     "outputs": []
    },
    {
     "cell_type": "code",
     "collapsed": false,
     "input": [
      "def factorial(n):\n",
      "    if n == 0:\n",
      "        return 1\n",
      "    else:\n",
      "        return n * factorial(n - 1)\n",
      "\n",
      "factorial(4)"
     ],
     "language": "python",
     "metadata": {},
     "outputs": []
    },
    {
     "cell_type": "markdown",
     "metadata": {},
     "source": [
      "## Module und `import`\n",
      "\n",
      "In Python kann man Programme in einzelne Module portionieren.\n",
      "\n",
      "Braucht man etwas aus einem anderen Modul, importiert man es:"
     ]
    },
    {
     "cell_type": "code",
     "collapsed": false,
     "input": [
      "import math\n",
      "\n",
      "math.sin(math.pi)"
     ],
     "language": "python",
     "metadata": {},
     "outputs": []
    },
    {
     "cell_type": "code",
     "collapsed": false,
     "input": [
      "from math import cos, pi\n",
      "\n",
      "cos(2 * pi)"
     ],
     "language": "python",
     "metadata": {},
     "outputs": []
    },
    {
     "cell_type": "code",
     "collapsed": false,
     "input": [
      "from math import *\n",
      "\n",
      "log(e)"
     ],
     "language": "python",
     "metadata": {},
     "outputs": []
    },
    {
     "cell_type": "code",
     "collapsed": false,
     "input": [
      "import math as m\n",
      "\n",
      "m.exp(10)"
     ],
     "language": "python",
     "metadata": {},
     "outputs": []
    },
    {
     "cell_type": "markdown",
     "metadata": {},
     "source": [
      "Schauen wir mal, was alles in `math` definiert wurde:"
     ]
    },
    {
     "cell_type": "code",
     "collapsed": false,
     "input": [
      "import math\n",
      "dir(math)"
     ],
     "language": "python",
     "metadata": {},
     "outputs": []
    },
    {
     "cell_type": "markdown",
     "metadata": {},
     "source": [
      "## Auslagern in Python-Dateien\n",
      "\n",
      "\n",
      "- Python-Dateien haben die Endung `.py`\n",
      "- Startet man mit `python2 programm.py`\n",
      "\n",
      "Es folgt ein fertiges Python-Programm.\n",
      "\n",
      "Speichert es als `primes.py` ab und startet es aus dem Terminal mit `python2 primes.py`."
     ]
    },
    {
     "cell_type": "code",
     "collapsed": false,
     "input": [
      "# encoding: utf-8\n",
      "\n",
      "from __future__ import (print_function,\n",
      "                        division,\n",
      "                        unicode_literals,\n",
      "                        absolute_import)\n",
      "\n",
      "def primes(max_num):\n",
      "    # Es werden nur Primzahlen kleiner max_num berechnet\n",
      "    is_prime = max_num * [True]\n",
      "    is_prime[0] = False\n",
      "    is_prime[1] = False\n",
      "\n",
      "    primes = []\n",
      "\n",
      "    # Sieb von Erathosthenes:\n",
      "    for i in range(2, max_num):\n",
      "        if is_prime[i]:\n",
      "            for j in range(2 * i, max_num, i):\n",
      "                # Alle Vielfachen sind keine Primzahl\n",
      "                is_prime[j] = False\n",
      "            primes.append(i)\n",
      "    \n",
      "    return primes\n",
      "\n",
      "print(primes(100))"
     ],
     "language": "python",
     "metadata": {},
     "outputs": []
    },
    {
     "cell_type": "markdown",
     "metadata": {},
     "source": [
      "## Besonderheiten bei Strings\n",
      "Mit `\\` kann man in Strings besondere Anweisungen setzen:\n",
      "\n",
      " - `'\\n'` -> Zeilenumbruch\n",
      " - `'\\t'` -> Tab\n",
      " - `'\\\\'` -> normales `'\\'`\n",
      "\n",
      "Wenn man viele `'\\'` schreiben muss (z.B. in LaTeX-Code), lohnt es sich diese Funktion auszuschalten:"
     ]
    },
    {
     "cell_type": "code",
     "collapsed": false,
     "input": [
      "print(r'\\Huge\\texttt{Python}')"
     ],
     "language": "python",
     "metadata": {},
     "outputs": []
    },
    {
     "cell_type": "markdown",
     "metadata": {},
     "source": [
      "Oft will man Werte oder andere Strings in einen String einsetzen.\n",
      "\n",
      "Daf\u00fcr stellt Python die `format()`-Methode bereit:"
     ]
    },
    {
     "cell_type": "code",
     "collapsed": false,
     "input": [
      "'Erster Wert: {}, Zweiter Wert: {}'.format(42, 0)"
     ],
     "language": "python",
     "metadata": {},
     "outputs": []
    },
    {
     "cell_type": "markdown",
     "metadata": {},
     "source": [
      "Die `{}`-Markierungen werden durch die Parameter von `format()` ersetzt.\n",
      "\n",
      "`format()` hat viele fortgeschrittene Funktionen:"
     ]
    },
    {
     "cell_type": "code",
     "collapsed": false,
     "input": [
      "'Das Ergebnis ist {:.2f}'.format(3.2211421)"
     ],
     "language": "python",
     "metadata": {},
     "outputs": []
    },
    {
     "cell_type": "markdown",
     "metadata": {},
     "source": [
      "## Weiterf\u00fchrende Links:\n",
      "\n",
      "- [Offizielle Python-Dokumentation](http://docs.python.org/3/)\n",
      "- [Offizielles Python-Tutorial](http://docs.python.org/2/tutorial/index.html)\n",
      "- [Dive into Python 3](http://www.diveinto.org/python3/)\n",
      "- [A Byte of Python](http://swaroopch.com/notes/python_en-introduction/)"
     ]
    }
   ],
   "metadata": {}
  }
 ]
}