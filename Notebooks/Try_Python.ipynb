{
 "metadata": {
  "name": "Try Python"
 },
 "nbformat": 3,
 "nbformat_minor": 0,
 "worksheets": [
  {
   "cells": [
    {
     "cell_type": "markdown",
     "metadata": {},
     "source": [
      "# Try Python\n",
      "Python is a high-level programming language developed by [Guido van Rossum](http://www.python.org/~guido/). Its main focus is simplicity. One of the greatest strenghts of Python is the large number of available libraries for almost every purpose.\n",
      "\n",
      "The design philosphy behind Python is best expressed by the so called **Zen of Python**. In order to read the Zen, simply start the Python interpreter and type in `import this`."
     ]
    },
    {
     "cell_type": "code",
     "collapsed": false,
     "input": [
      "import this"
     ],
     "language": "python",
     "metadata": {},
     "outputs": [
      {
       "output_type": "stream",
       "stream": "stdout",
       "text": [
        "The Zen of Python, by Tim Peters\n",
        "\n",
        "Beautiful is better than ugly.\n",
        "Explicit is better than implicit.\n",
        "Simple is better than complex.\n",
        "Complex is better than complicated.\n",
        "Flat is better than nested.\n",
        "Sparse is better than dense.\n",
        "Readability counts.\n",
        "Special cases aren't special enough to break the rules.\n",
        "Although practicality beats purity.\n",
        "Errors should never pass silently.\n",
        "Unless explicitly silenced.\n",
        "In the face of ambiguity, refuse the temptation to guess.\n",
        "There should be one-- and preferably only one --obvious way to do it.\n",
        "Although that way may not be obvious at first unless you're Dutch.\n",
        "Now is better than never.\n",
        "Although never is often better than *right* now.\n",
        "If the implementation is hard to explain, it's a bad idea.\n",
        "If the implementation is easy to explain, it may be a good idea.\n",
        "Namespaces are one honking great idea -- let's do more of those!\n"
       ]
      }
     ],
     "prompt_number": 1
    },
    {
     "cell_type": "markdown",
     "metadata": {},
     "source": [
      "Now you have a rough idea but of course philosophy doesn't help you much getting your work done. So let's get down to business."
     ]
    },
    {
     "cell_type": "markdown",
     "metadata": {},
     "source": [
      "## Variables\n",
      "Data can be stored in _variables_. Python has a dynamic [type system](https://en.wikipedia.org/wiki/Type_system). Threrefore you don't need to declare the type of a variable as, for example, in C++. The assignment operator in Python is the `=`."
     ]
    },
    {
     "cell_type": "code",
     "collapsed": false,
     "input": [
      "x = 1\n",
      "name = 'Kevin'  # strings can be either in \"\" or in '' - be consistent!"
     ],
     "language": "python",
     "metadata": {},
     "outputs": [],
     "prompt_number": 3
    },
    {
     "cell_type": "markdown",
     "metadata": {},
     "source": [
      "In order to output the contents of your variables to the command line, you can use the `print` function.\n",
      "\n",
      "**Expert note**: Technically, in Python 2, `print` is a _statement_, not a function. In Python 3 however, it is a function and for consistency, you should always include 'from __future__ import print_function` in your Python 2 programs."
     ]
    },
    {
     "cell_type": "code",
     "collapsed": false,
     "input": [
      "print(x)\n",
      "print(name)"
     ],
     "language": "python",
     "metadata": {},
     "outputs": [
      {
       "output_type": "stream",
       "stream": "stdout",
       "text": [
        "1\n",
        "Kevin\n"
       ]
      }
     ],
     "prompt_number": 4
    },
    {
     "cell_type": "markdown",
     "metadata": {},
     "source": [
      "When dealing with _strings_, formatting might come in handy. In Python there are two different ways for string formatting: The old C `printf`-style formatting with percent signs and the modern one that uses a [method](#methods) of the string-[object](#objects). The latter one is the preferred way and will replace the old one in the future."
     ]
    },
    {
     "cell_type": "code",
     "collapsed": false,
     "input": [
      "print('Hello, my name is %s.' % name)  # C-printf-style formatting\n",
      "print('Hello, my name is {}.'.format(name))  # modern formatting"
     ],
     "language": "python",
     "metadata": {},
     "outputs": [
      {
       "output_type": "stream",
       "stream": "stdout",
       "text": [
        "Hello, my name is Kevin.\n",
        "Hello, my name is Kevin.\n"
       ]
      }
     ],
     "prompt_number": 5
    },
    {
     "cell_type": "markdown",
     "metadata": {},
     "source": [
      "When dealing with numbers, you might want to make use of the different options string formatting has to offer. Check out the [examples in the official documentation](http://docs.python.org/2/library/string.html#format-examples)."
     ]
    },
    {
     "cell_type": "code",
     "collapsed": false,
     "input": [],
     "language": "python",
     "metadata": {},
     "outputs": []
    }
   ],
   "metadata": {}
  }
 ]
}